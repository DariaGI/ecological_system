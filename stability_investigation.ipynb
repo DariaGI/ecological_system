{
  "cells": [
    {
      "cell_type": "markdown",
      "metadata": {
        "id": "UMyqTrphUHp_"
      },
      "source": [
        "# Библиотеки"
      ]
    },
    {
      "cell_type": "code",
      "execution_count": null,
      "metadata": {
        "id": "EbijD52SAdj2"
      },
      "outputs": [],
      "source": [
        "import numpy as np\n",
        "import pandas as pd\n",
        "import plotly.express as px\n",
        "from plotly.io import to_image\n",
        "from scipy.integrate import solve_ivp\n",
        "from scipy.optimize import fsolve\n",
        "import seaborn as sn\n",
        "import plotly.graph_objects as go\n",
        "from random import randint"
      ]
    },
    {
      "cell_type": "code",
      "execution_count": null,
      "metadata": {
        "id": "uNbjw1kYyNK7"
      },
      "outputs": [],
      "source": [
        "#pip install --upgrade plotly"
      ]
    },
    {
      "cell_type": "code",
      "execution_count": null,
      "metadata": {
        "id": "LV4L4e-zCe5R"
      },
      "outputs": [],
      "source": [
        "#pip install --upgrade sympy"
      ]
    },
    {
      "cell_type": "code",
      "execution_count": null,
      "metadata": {
        "colab": {
          "base_uri": "https://localhost:8080/"
        },
        "id": "Zj7pNoQh6Eip",
        "outputId": "b5d8a45f-bcdf-4a39-e7ac-2830dd86261b"
      },
      "outputs": [
        {
          "name": "stdout",
          "output_type": "stream",
          "text": [
            "Requirement already satisfied: kaleido in /usr/local/lib/python3.11/dist-packages (0.2.1)\n"
          ]
        }
      ],
      "source": [
        "pip install -U kaleido"
      ]
    },
    {
      "cell_type": "markdown",
      "metadata": {
        "id": "l005BZ0KbNfk"
      },
      "source": [
        "# Система с внутривидовой конкуренцией"
      ]
    },
    {
      "cell_type": "markdown",
      "metadata": {
        "id": "5EUPxGSsBTrs"
      },
      "source": [
        "# Функции служебные"
      ]
    },
    {
      "cell_type": "markdown",
      "metadata": {
        "id": "LXZxW9b5ez5z"
      },
      "source": [
        "### График plotly"
      ]
    },
    {
      "cell_type": "code",
      "execution_count": null,
      "metadata": {
        "id": "Q3KHq5yZKzTE"
      },
      "outputs": [],
      "source": [
        "# График plotly: Evolution of species with competition for resources\n",
        "def draw_integ_evol(dataframe, Smax=\"\"):\n",
        "    if \"Smax\" in dataframe.columns:\n",
        "      Smax = dataframe.Smax[0]\n",
        "      dataframe = dataframe.drop(\"Smax\", axis=1)\n",
        "\n",
        "    df = dataframe.rename(columns={\n",
        "        \"S\": \"S (Ресурс)\",\n",
        "        \"N1\": \"N1 (Вид 1)\",\n",
        "        \"N2\": \"N2 (Вид 2)\"\n",
        "\n",
        "    })\n",
        "    fig = px.line(df, x=df.index, y=[\"N1 (Вид 1)\", \"N2 (Вид 2)\"],\n",
        "                  width=1000, height=600,\n",
        "                  color_discrete_map={\n",
        "                      \"N1 (Вид 1)\": \"blue\",\n",
        "                      \"N2 (Вид 2)\": \"green\"\n",
        "                  })\n",
        "    fig.add_trace(\n",
        "        go.Scatter(\n",
        "            x=df.index,\n",
        "            y=df[\"S (Ресурс)\"],\n",
        "            name=\"S (Ресурс)\",\n",
        "            line=dict(color=\"red\"),\n",
        "            yaxis=\"y2\"\n",
        "        )\n",
        "    )\n",
        "    fig.update_layout(\n",
        "        title= f'Динамика численности видов и ресурса при Smax={Smax}',\n",
        "        margin=dict(l=50, r=250, t=50, b=50),\n",
        "        xaxis_title=\"Время\",\n",
        "        yaxis_title=\"Численность видов\",\n",
        "        yaxis2=dict(\n",
        "          title=\"Количество ресурса\",\n",
        "          overlaying=\"y\",\n",
        "          side=\"right\",\n",
        "          showgrid=False\n",
        "        ),\n",
        "        plot_bgcolor='rgba(0,0,0,0)',\n",
        "        paper_bgcolor='rgba(0,0,0,0)',\n",
        "        xaxis=dict(\n",
        "            ticks='outside',\n",
        "            showline=True,\n",
        "            linecolor='lightgray',\n",
        "            # mirror=True,\n",
        "            gridcolor='lightgray',\n",
        "            showgrid=False\n",
        "        ),\n",
        "        yaxis=dict(\n",
        "            gridcolor='lightgray',\n",
        "            gridwidth=1,\n",
        "            showgrid=True\n",
        "        ),\n",
        "        legend=dict(\n",
        "            title=\"Ресурсы и виды\",\n",
        "            orientation=\"v\",\n",
        "            font=dict(size=8),\n",
        "            yanchor=\"middle\",\n",
        "            y=0.9,\n",
        "            xanchor=\"left\",\n",
        "            x=1.05\n",
        "        )\n",
        "    )\n",
        "    fig.show()\n",
        "    path = f\"result_Smax={Smax}.svg\"\n",
        "    fig.write_image(path, engine=\"kaleido\")"
      ]
    },
    {
      "cell_type": "markdown",
      "metadata": {
        "id": "MVSOtgVDe-1k"
      },
      "source": [
        "### Построение таблицы для для интегрирования с остановкой"
      ]
    },
    {
      "cell_type": "code",
      "execution_count": null,
      "metadata": {
        "id": "PZnAmmQgUHEp"
      },
      "outputs": [],
      "source": [
        "def make_df_evol(integr_result, t_list, column_names=[]):\n",
        "  sol = np.array(integr_result).T\n",
        "  dict = {}\n",
        "  if len(column_names) > 0:\n",
        "    df = pd.DataFrame(integr_result, columns=column_names[1:(len(sol)+1)])\n",
        "    df.index = t_list\n",
        "  else:\n",
        "    for i in range(0, len(sol)):\n",
        "      switch = (len(sol)+1)//2\n",
        "      if i < switch:\n",
        "        key = \"S\"+ str(i+1)\n",
        "      else:\n",
        "        key = \"N\"+ str(i - switch +1)\n",
        "      dict[key] = sol[i]\n",
        "      df = pd.DataFrame.from_dict(dict)\n",
        "      df.index = t_list\n",
        "  return(df)"
      ]
    },
    {
      "cell_type": "markdown",
      "metadata": {
        "id": "zgd8723-fFNG"
      },
      "source": [
        "### Интегрирования"
      ]
    },
    {
      "cell_type": "code",
      "execution_count": null,
      "metadata": {
        "id": "LLrSK21TS7JO"
      },
      "outputs": [],
      "source": [
        "def integration_to_eps_many(dX_dt, t0, t1, dt, X0, K1, K2, a1, a2, c1, c2, delta,\\\n",
        "                            epsilon1, epsilon2, Smax, epsil=0.00005):\n",
        "    t_eval = np.arange(t0, t1, dt)\n",
        "    params = (K1, K2, a1, a2, c1, c2, delta, epsilon1, epsilon2, Smax)\n",
        "    sol = solve_ivp(dX_dt, [t0, t1], X0, args=params, t_eval=t_eval, atol=epsil, rtol=epsil)\n",
        "    integr_result = sol.y.T\n",
        "    t_final = sol.t\n",
        "\n",
        "    for i in range(1000, len(integr_result)):\n",
        "        if abs(np.sum(integr_result[i]) - np.sum(np.mean(integr_result[i-1000:i], axis=0))) > epsil:\n",
        "            continue\n",
        "        else:\n",
        "            return integr_result[:i+1], t_final[:i+1]\n",
        "\n",
        "    return integr_result, t_final"
      ]
    },
    {
      "cell_type": "markdown",
      "metadata": {
        "id": "caPrOx_yfIgm"
      },
      "source": [
        "### Весь цикл интегрирования"
      ]
    },
    {
      "cell_type": "code",
      "execution_count": null,
      "metadata": {
        "id": "S5U0MwSGD_MD"
      },
      "outputs": [],
      "source": [
        "# Весь анализ для чтения из таблицы: подготовка данных, график,\n",
        "# интегрирование - таблицы с полным результатом и последними значениями.\n",
        "def whole_cycle_table(data_set_table, dX_dt, t0, t1, dt, epsil=0.00005):\n",
        "  full_integration_set = []\n",
        "  last_stage_integration_set = []\n",
        "  column_names = ['Smax', 'S', 'N1', 'N2']\n",
        "  combined_last_stage_integration = []\n",
        "  for i in range(0, len(data_set_table)):\n",
        "    Smax = full_data.iloc[i]['Smax']\n",
        "    delta = full_data.iloc[i]['delta']\n",
        "    epsilon1 = full_data.iloc[i]['epsilon1']\n",
        "    epsilon2 = full_data.iloc[i]['epsilon2']\n",
        "    a1 = full_data.iloc[i]['a1']\n",
        "    a2 = full_data.iloc[i]['a2']\n",
        "    K1 = full_data.iloc[i]['K1']\n",
        "    K2 = full_data.iloc[i]['K2']\n",
        "    c1 = full_data.iloc[i]['c1']\n",
        "    c2 = full_data.iloc[i]['c2']\n",
        "    integr_result, t_final = integration_to_eps_many(dX_dt, t0, t1, dt, X, K1,\\\n",
        "                                                     K2, a1, a2, c1, c2, delta, \\\n",
        "                                                     epsilon1, epsilon2, Smax, \\\n",
        "                                                     epsil)\n",
        "    data_one_step_res = make_df_evol(integr_result, t_final, column_names)\n",
        "    full_integration_set.append(data_one_step_res)\n",
        "    data_one_step_res.insert(0, 'Smax', Smax)\n",
        "    data_one_step_res = data_one_step_res.reset_index(names='t')\n",
        "    if len(combined_last_stage_integration) < 1:\n",
        "      combined_last_stage_integration = data_one_step_res.tail(1)\n",
        "    else:\n",
        "      combined_last_stage_integration = pd.concat( \\\n",
        "       [combined_last_stage_integration, data_one_step_res.tail(1)], axis=0)\\\n",
        "       .reset_index(drop=True)\n",
        "  return full_integration_set, combined_last_stage_integration"
      ]
    },
    {
      "cell_type": "markdown",
      "metadata": {
        "id": "QpzQytoGKTz0"
      },
      "source": [
        "##   Уравнения для интегрирования"
      ]
    },
    {
      "cell_type": "code",
      "execution_count": null,
      "metadata": {
        "id": "Buxshxva36oj"
      },
      "outputs": [],
      "source": [
        "def dX_dt(t, X, K1, K2, a1, a2, c1, c2, delta, epsilon1, epsilon2, Smax):\n",
        "\n",
        "  S = X[0]\n",
        "  N1 = X[1]\n",
        "  N2 = X[2]\n",
        "\n",
        "\n",
        "  dS_dt = Smax  - ((a1 * N1 * S / (K1 + S)) + (a2 * N2 * S / (K2 + S)) + (S / delta))\n",
        "  dN1_dt = a1 * N1 * S / (K1 + S) - c1 * N1 - epsilon1 * (N1**2)\n",
        "  dN2_dt = a2 * N2 * S / (K2 + S) - c2 * N2 - epsilon2 * (N2**2)\n",
        "\n",
        "  return np.array([dS_dt, dN1_dt, dN2_dt])"
      ]
    },
    {
      "cell_type": "markdown",
      "metadata": {
        "id": "afJtiMGB7wAY"
      },
      "source": [
        "# Симуляция"
      ]
    },
    {
      "cell_type": "markdown",
      "metadata": {
        "id": "4Yh2lXUEEScf"
      },
      "source": [
        "### Создание датасета для симуляции"
      ]
    },
    {
      "cell_type": "code",
      "execution_count": null,
      "metadata": {
        "id": "9vC_Fnj8DNGL"
      },
      "outputs": [],
      "source": [
        "n = 40\n",
        "Smax = [randint(10, 300) for p in range(0, n)]\n",
        "delta = [0.2] * n\n",
        "epsilon1 = [0.01] * n\n",
        "epsilon = [0.01] * n\n",
        "a1 = [1.5] * n\n",
        "a2 = [1.5] * n\n",
        "K1 = [10] * n\n",
        "K2 = [10] * n\n",
        "c1 = [0.6] * n\n",
        "c2 = [0.6] * n\n",
        "S = 10\n",
        "N1 = 10\n",
        "N2 = 10\n",
        "full_data = pd.DataFrame(\n",
        "    {'Smax': Smax,\n",
        "     'S': S,\n",
        "     'N1': N1,\n",
        "     'N2': N2,\n",
        "     'delta': delta,\n",
        "     'epsilon1': epsilon1,\n",
        "     'epsilon2': epsilon,\n",
        "     'a1': a1,\n",
        "     'a2': a2,\n",
        "     'K1': K1,\n",
        "     'K2': K2,\n",
        "     'c1': c1,\n",
        "     'c2': c2,\n",
        "    })\n",
        "t0 = 0\n",
        "t1 = 500\n",
        "dt = 0.001\n",
        "t = np.linspace(t0, t1, 10000)\n",
        "X = np.concatenate((S, N1, N2), axis=None)"
      ]
    },
    {
      "cell_type": "code",
      "execution_count": null,
      "metadata": {
        "id": "DsCf8s6T6vls"
      },
      "outputs": [],
      "source": [
        "# full_integration_set, combined_last_stage_integration =  whole_cycle_table(full_data, dX_dt, t0, t1, dt, epsil=0.00001)"
      ]
    },
    {
      "cell_type": "code",
      "execution_count": null,
      "metadata": {
        "id": "3RWoO1biZb7d"
      },
      "outputs": [],
      "source": [
        "# full_integration_set[0]"
      ]
    },
    {
      "cell_type": "markdown",
      "metadata": {
        "id": "TxZrmALwBhJ9"
      },
      "source": [
        "## Матрица корреляций"
      ]
    },
    {
      "cell_type": "code",
      "execution_count": null,
      "metadata": {
        "id": "JrrXNIHNijul"
      },
      "outputs": [],
      "source": [
        "# corel_matrix = combined_last_stage_integration[combined_last_stage_integration.columns[1:]].corr()"
      ]
    },
    {
      "cell_type": "code",
      "execution_count": null,
      "metadata": {
        "id": "kXRxKTRgjpb4"
      },
      "outputs": [],
      "source": [
        "# plt.figure(figsize=(8,8))\n",
        "# sn.heatmap(corel_matrix, vmin=-0.1, vmax=1, cmap=\"flare\", annot=True)\n",
        "# plt.show()"
      ]
    },
    {
      "cell_type": "markdown",
      "metadata": {
        "id": "ARX9IK7Bebcx"
      },
      "source": [
        "# Стационарные точки и анализ их устойчивости по Ляпунову"
      ]
    },
    {
      "cell_type": "markdown",
      "metadata": {
        "id": "vEn8RbmTqJGj"
      },
      "source": [
        "## Тривиальное равновесие: N1 = 0, N2 = 0"
      ]
    },
    {
      "cell_type": "code",
      "execution_count": null,
      "metadata": {
        "colab": {
          "base_uri": "https://localhost:8080/"
        },
        "id": "2JsuBF7SlzsT",
        "outputId": "c45b6833-aac2-448f-a78f-f48c5411c758"
      },
      "outputs": [
        {
          "name": "stdout",
          "output_type": "stream",
          "text": [
            "S = 2.0\n",
            "N1 = 0\n",
            "N2 = 0\n",
            "lambda1 = -5.0 lambda1 < 0: True\n",
            "lambda2 = -0.01 lambda2 < 0: True\n",
            "lambda3 = -0.49 lambda3 < 0: True\n"
          ]
        }
      ],
      "source": [
        "#Тривиальное равновесие\n",
        "Smax = 10\n",
        "delta = 0.2\n",
        "epsilon1 = 0.01\n",
        "epsilon2 = 0.01\n",
        "a1 = 0.3\n",
        "a2 = 1.6\n",
        "K1 = 5\n",
        "K2 = 27\n",
        "c1 = 0.1\n",
        "c2 = 0.6\n",
        "\n",
        "S = Smax * delta\n",
        "N1 = 0\n",
        "N2 = 0\n",
        "\n",
        "print(f\"S = {round(S, 2)}\")\n",
        "print(f\"N1 = {round(N1, 2)}\")\n",
        "print(f\"N2 = {round(N2, 2)}\")\n",
        "\n",
        "lambda1 = -1/delta\n",
        "lambda2 = (a1 * Smax * delta) / (K1 + Smax * delta) - c1\n",
        "lambda3 = (a2 * Smax * delta) / (K2 + Smax * delta) - c2\n",
        "\n",
        "print(f\"lambda1 = {round(lambda1, 2)}\", \"lambda1 < 0:\", lambda1<0)\n",
        "print(f\"lambda2 = {round(lambda2, 2)}\",\"lambda2 < 0:\", lambda2<0)\n",
        "print(f\"lambda3 = {round(lambda3, 2)}\",\"lambda3 < 0:\", lambda3<0)"
      ]
    },
    {
      "cell_type": "code",
      "execution_count": null,
      "metadata": {
        "id": "rdQpa8s2wAVq"
      },
      "outputs": [],
      "source": [
        "S, N1, N2 = 10, 10, 10\n",
        "t0 = 0\n",
        "t1 = 300\n",
        "dt = 0.001\n",
        "X0 = np.concatenate((S, N1, N2), axis=None)\n",
        "integr_result, t_final = integration_to_eps_many(dX_dt, t0, t1, dt, X0, K1, K2, a1, a2, c1, c2, delta, epsilon1, epsilon2, Smax, epsil=0.000001)"
      ]
    },
    {
      "cell_type": "code",
      "execution_count": null,
      "metadata": {
        "colab": {
          "base_uri": "https://localhost:8080/",
          "height": 617
        },
        "id": "Cb_SPatxwAVq",
        "outputId": "cfb44360-1a26-41c6-cf30-184bf5a3dc05"
      },
      "outputs": [],
      "source": [
        "df = make_df_evol(integr_result, t_final, [\"t\", \"S\", \"N1\", \"N2\"])\n",
        "draw_integ_evol(df, Smax)"
      ]
    },
    {
      "cell_type": "markdown",
      "metadata": {
        "id": "E1Es0EE6qTWc"
      },
      "source": [
        "## Smax = 40, N1 > 0, N2 = 0"
      ]
    },
    {
      "cell_type": "code",
      "execution_count": null,
      "metadata": {
        "colab": {
          "base_uri": "https://localhost:8080/"
        },
        "id": "zjNY2RfTmGTT",
        "outputId": "66208042-44c5-47f2-e372-eb206d1159d0"
      },
      "outputs": [
        {
          "name": "stdout",
          "output_type": "stream",
          "text": [
            "S = 7.7\n",
            "N1 = 8.19\n",
            "N2 = 0\n",
            "lambda1 = -5.08 lambda1 < 0: True\n",
            "lambda2 = -0.08 lambda2 < 0: True\n",
            "lambda3 = -0.24 lambda3 < 0: True\n"
          ]
        }
      ],
      "source": [
        "#N1>0 N2=0\n",
        "Smax = 40\n",
        "delta = 0.2\n",
        "epsilon1 = 0.01\n",
        "epsilon2 = 0.01\n",
        "a1 = 0.3\n",
        "a2 = 1.6\n",
        "K1 = 5\n",
        "K2 = 27\n",
        "c1 = 0.1\n",
        "c2 = 0.6\n",
        "\n",
        "def equation(S):\n",
        "    return Smax - ((a1**2) * (S**2)) / (epsilon1 * ((K1 + S)**2)) + (a1 * c1 * S) / (epsilon1 * (K1 + S)) - S / delta\n",
        "\n",
        "initial_guess = 10\n",
        "S  = fsolve(equation, initial_guess)[0]\n",
        "print(f\"S = {round(S, 2)}\")\n",
        "\n",
        "N1 = ((a1 * S) / (K1 + S) - c1) / epsilon1\n",
        "N2 = 0\n",
        "print(f\"N1 = {round(N1, 2)}\")\n",
        "print(f\"N2 = {round(N2, 2)}\")\n",
        "\n",
        "lambda1 = - (a1 * N1 * K1 / (K1 + S)**2) - 1/delta\n",
        "lambda2 = c1 - (a1 * S) / (K1 + S)\n",
        "lambda3 = (a2 * S) / (K2 + S) - c2\n",
        "\n",
        "print(f\"lambda1 = {round(lambda1, 2)}\", \"lambda1 < 0:\", lambda1<0)\n",
        "print(f\"lambda2 = {round(lambda2, 2)}\",\"lambda2 < 0:\", lambda2<0)\n",
        "print(f\"lambda3 = {round(lambda3, 2)}\",\"lambda3 < 0:\", lambda3<0)\n"
      ]
    },
    {
      "cell_type": "code",
      "execution_count": null,
      "metadata": {
        "id": "S3TEnai4wVen"
      },
      "outputs": [],
      "source": [
        "S, N1, N2 = 10, 10, 10\n",
        "t0 = 0\n",
        "t1 = 200\n",
        "dt = 0.001\n",
        "X0 = np.concatenate((S, N1, N2), axis=None)\n",
        "integr_result, t_final = integration_to_eps_many(dX_dt, t0, t1, dt, X0, K1, K2, a1, a2, c1, c2, delta, epsilon1, epsilon2, Smax, epsil=0.000001)"
      ]
    },
    {
      "cell_type": "code",
      "execution_count": null,
      "metadata": {
        "colab": {
          "base_uri": "https://localhost:8080/",
          "height": 617
        },
        "id": "faUKwWnfwVen",
        "outputId": "237ba6be-05c4-4feb-bbcb-5fdb81e7dfc4"
      },
      "outputs": [],
      "source": [
        "df = make_df_evol(integr_result, t_final, [\"t\", \"S\", \"N1\", \"N2\"])\n",
        "draw_integ_evol(df, Smax)"
      ]
    },
    {
      "cell_type": "markdown",
      "metadata": {
        "id": "BkP4voSBzMFg"
      },
      "source": [
        "## Smax = 150, N1 > 0, N2 > 0"
      ]
    },
    {
      "cell_type": "code",
      "execution_count": null,
      "metadata": {
        "colab": {
          "base_uri": "https://localhost:8080/"
        },
        "id": "ZWSGt4z7zMFh",
        "outputId": "6258a01b-3c9c-4165-ba89-c7ab9025228d"
      },
      "outputs": [
        {
          "name": "stdout",
          "output_type": "stream",
          "text": [
            "S = 26.26\n",
            "N1 = 15.2\n",
            "N2 = 18.88\n",
            "\n",
            "lambda1 = -5.27 lambda1 < 0: True\n",
            "lambda2 = -0.23 lambda2 < 0: True\n",
            "lambda3 = -0.15 lambda3 < 0: True\n"
          ]
        }
      ],
      "source": [
        "Smax = 150\n",
        "delta = 0.2\n",
        "epsilon1 = 0.01\n",
        "epsilon2 = 0.01\n",
        "a1 = 0.3\n",
        "a2 = 1.6\n",
        "K1 = 5\n",
        "K2 = 27\n",
        "c1 = 0.1\n",
        "c2 = 0.6\n",
        "\n",
        "# Определяем функцию для уравнения\n",
        "def equation(S):\n",
        "    return Smax - ((a1**2) * (S**2)) / (epsilon1 * ((K1 + S)**2)) \\\n",
        "    + (a1 * c1 * S) / (epsilon1 * (K1 + S)) \\\n",
        "    - ((a2**2) * (S**2)) / (epsilon2 * ((K2 + S)**2))\\\n",
        "    + (a2 * c2 * S) / (epsilon2 * (K2 + S)) \\\n",
        "    - S / delta\n",
        "\n",
        "# Начальное приближение для S\n",
        "initial_guess = 10\n",
        "\n",
        "# Решаем уравнение\n",
        "S  = fsolve(equation, initial_guess)[0]\n",
        "print(f\"S = {round(S, 2)}\")\n",
        "\n",
        "N1 = ((a1 * S) / (K1 +S) - c1) / epsilon1\n",
        "N2 = ((a2 * S) / (K2 +S) - c2) / epsilon2\n",
        "print(f\"N1 = {round(N1, 2)}\")\n",
        "print(f\"N2 = {round(N2, 2)}\")\n",
        "\n",
        "\n",
        "J11 = -(a1 * N1 * K1) / (K1 + S)**2 - (a2 * N2 * K2) / (K2 + S)**2 - 1 / delta\n",
        "J12 = -(a1 * S) / (K1 + S)\n",
        "J13 = -(a2 * S) / (K2 + S)\n",
        "J21 = (a1 * N1 * K1) / (K1 + S)**2\n",
        "J22 = (a1 * S) / (K1 + S) - c1 - 2 * epsilon1 * N1\n",
        "J31 = (a2 * N2 * K2) / (K2 + S)**2\n",
        "J33 = (a2 * S) / (K2 + S) - c2 - 2 * epsilon2 * N2\n",
        "\n",
        "# Матрица Якоби\n",
        "J = np.array([\n",
        "    [J11, J12, J13],\n",
        "    [J21, J22, 0],\n",
        "    [J31, 0, J33]\n",
        "])\n",
        "\n",
        "# Вычисление собственных значений\n",
        "eigenvalues, _ = np.linalg.eig(J)\n",
        "print()\n",
        "\n",
        "lambda1 = eigenvalues[0]\n",
        "lambda2 = eigenvalues[1]\n",
        "lambda3 = eigenvalues[2]\n",
        "\n",
        "print(f\"lambda1 = {round(lambda1, 2)}\", \"lambda1 < 0:\", lambda1<0)\n",
        "print(f\"lambda2 = {round(lambda2, 2)}\",\"lambda2 < 0:\", lambda2<0)\n",
        "print(f\"lambda3 = {round(lambda3, 2)}\",\"lambda3 < 0:\", lambda3<0)\n"
      ]
    },
    {
      "cell_type": "code",
      "execution_count": null,
      "metadata": {
        "id": "1VwA50kXzMFi"
      },
      "outputs": [],
      "source": [
        "S, N1, N2 = 10, 10, 10\n",
        "t0 = 0\n",
        "t1 = 200\n",
        "dt = 0.001\n",
        "X0 = np.concatenate((S, N1, N2), axis=None)\n",
        "integr_result, t_final = integration_to_eps_many(dX_dt, t0, t1, dt, X0, K1, K2, a1, a2, c1, c2, delta, epsilon1, epsilon2, Smax, epsil=0.000001)"
      ]
    },
    {
      "cell_type": "code",
      "execution_count": null,
      "metadata": {
        "colab": {
          "base_uri": "https://localhost:8080/",
          "height": 617
        },
        "id": "JdnJlpr1zMFi",
        "outputId": "152b021a-6dbe-4044-96d1-facdcea4acf0"
      },
      "outputs": [],
      "source": [
        "df = make_df_evol(integr_result, t_final, [\"t\", \"S\", \"N1\", \"N2\"])\n",
        "draw_integ_evol(df, Smax)"
      ]
    },
    {
      "cell_type": "markdown",
      "metadata": {
        "id": "z1CCjjb2Hb2u"
      },
      "source": [
        "## Smax = 1500, N1 > 0, N2 > 0"
      ]
    },
    {
      "cell_type": "code",
      "execution_count": null,
      "metadata": {
        "colab": {
          "base_uri": "https://localhost:8080/"
        },
        "id": "vpzB00q1C9-3",
        "outputId": "c043e94c-2286-49ca-b1e5-6d30f07e8718"
      },
      "outputs": [
        {
          "name": "stdout",
          "output_type": "stream",
          "text": [
            "S = 273.91\n",
            "N1 = 19.46\n",
            "N2 = 85.64\n",
            "\n",
            "lambda1 = -5.03 lambda1 < 0: True\n",
            "lambda2 = -0.87 lambda2 < 0: True\n",
            "lambda3 = -0.19 lambda3 < 0: True\n"
          ]
        }
      ],
      "source": [
        "Smax = 1500\n",
        "delta = 0.2\n",
        "epsilon1 = 0.01\n",
        "epsilon2 = 0.01\n",
        "a1 = 0.3\n",
        "a2 = 1.6\n",
        "K1 = 5\n",
        "K2 = 27\n",
        "c1 = 0.1\n",
        "c2 = 0.6\n",
        "\n",
        "# Определяем функцию для уравнения\n",
        "def equation(S):\n",
        "    return Smax - ((a1**2) * (S**2)) / (epsilon1 * ((K1 + S)**2)) \\\n",
        "    + (a1 * c1 * S) / (epsilon1 * (K1 + S)) \\\n",
        "    - ((a2**2) * (S**2)) / (epsilon2 * ((K2 + S)**2))\\\n",
        "    + (a2 * c2 * S) / (epsilon2 * (K2 + S)) \\\n",
        "    - S / delta\n",
        "\n",
        "# Начальное приближение для S\n",
        "initial_guess = 10\n",
        "\n",
        "# Решаем уравнение\n",
        "S  = fsolve(equation, initial_guess)[0]\n",
        "print(f\"S = {round(S, 2)}\")\n",
        "\n",
        "N1 = ((a1 * S) / (K1 +S) - c1) / epsilon1\n",
        "N2 = ((a2 * S) / (K2 +S) - c2) / epsilon2\n",
        "print(f\"N1 = {round(N1, 2)}\")\n",
        "print(f\"N2 = {round(N2, 2)}\")\n",
        "\n",
        "\n",
        "J11 = -(a1 * N1 * K1) / (K1 + S)**2 - (a2 * N2 * K2) / (K2 + S)**2 - 1 / delta\n",
        "J12 = -(a1 * S) / (K1 + S)\n",
        "J13 = -(a2 * S) / (K2 + S)\n",
        "J21 = (a1 * N1 * K1) / (K1 + S)**2\n",
        "J22 = (a1 * S) / (K1 + S) - c1 - 2 * epsilon1 * N1\n",
        "J31 = (a2 * N2 * K2) / (K2 + S)**2\n",
        "J33 = (a2 * S) / (K2 + S) - c2 - 2 * epsilon2 * N2\n",
        "\n",
        "# Матрица Якоби\n",
        "J = np.array([\n",
        "    [J11, J12, J13],\n",
        "    [J21, J22, 0],\n",
        "    [J31, 0, J33]\n",
        "])\n",
        "\n",
        "# Вычисление собственных значений\n",
        "eigenvalues, _ = np.linalg.eig(J)\n",
        "print()\n",
        "\n",
        "lambda1 = eigenvalues[0]\n",
        "lambda2 = eigenvalues[1]\n",
        "lambda3 = eigenvalues[2]\n",
        "\n",
        "print(f\"lambda1 = {round(lambda1, 2)}\", \"lambda1 < 0:\", lambda1<0)\n",
        "print(f\"lambda2 = {round(lambda2, 2)}\",\"lambda2 < 0:\", lambda2<0)\n",
        "print(f\"lambda3 = {round(lambda3, 2)}\",\"lambda3 < 0:\", lambda3<0)\n"
      ]
    },
    {
      "cell_type": "code",
      "execution_count": null,
      "metadata": {
        "id": "SPmZ-lWrC9-3"
      },
      "outputs": [],
      "source": [
        "S, N1, N2 = 10, 10, 10\n",
        "t0 = 0\n",
        "t1 = 200\n",
        "dt = 0.001\n",
        "X0 = np.concatenate((S, N1, N2), axis=None)\n",
        "integr_result, t_final = integration_to_eps_many(dX_dt, t0, t1, dt, X0, K1, K2, a1, a2, c1, c2, delta, epsilon1, epsilon2, Smax, epsil=0.000001)"
      ]
    },
    {
      "cell_type": "code",
      "execution_count": null,
      "metadata": {
        "colab": {
          "base_uri": "https://localhost:8080/",
          "height": 617
        },
        "id": "7y2Xwu40C9-3",
        "outputId": "059ad4d1-23c0-4689-dd95-00b7ca637c7c"
      },
      "outputs": [],
      "source": [
        "df = make_df_evol(integr_result, t_final, [\"t\", \"S\", \"N1\", \"N2\"])\n",
        "draw_integ_evol(df, Smax)"
      ]
    }
  ],
  "metadata": {
    "colab": {
      "provenance": [],
      "toc_visible": true
    },
    "kernelspec": {
      "display_name": "Python 3",
      "name": "python3"
    },
    "language_info": {
      "name": "python"
    }
  },
  "nbformat": 4,
  "nbformat_minor": 0
}
